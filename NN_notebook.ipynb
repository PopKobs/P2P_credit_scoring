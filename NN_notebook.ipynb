{
 "cells": [
  {
   "cell_type": "code",
   "execution_count": 1,
   "id": "07545f59",
   "metadata": {},
   "outputs": [],
   "source": [
    "import pandas as pd"
   ]
  },
  {
   "cell_type": "code",
   "execution_count": 2,
   "id": "7595c92d",
   "metadata": {},
   "outputs": [
    {
     "data": {
      "text/html": [
       "<div>\n",
       "<style scoped>\n",
       "    .dataframe tbody tr th:only-of-type {\n",
       "        vertical-align: middle;\n",
       "    }\n",
       "\n",
       "    .dataframe tbody tr th {\n",
       "        vertical-align: top;\n",
       "    }\n",
       "\n",
       "    .dataframe thead th {\n",
       "        text-align: right;\n",
       "    }\n",
       "</style>\n",
       "<table border=\"1\" class=\"dataframe\">\n",
       "  <thead>\n",
       "    <tr style=\"text-align: right;\">\n",
       "      <th></th>\n",
       "      <th>BorrowerAPR</th>\n",
       "      <th>BorrowerRate</th>\n",
       "      <th>LenderYield</th>\n",
       "      <th>EstimatedEffectiveYield</th>\n",
       "      <th>EstimatedLoss</th>\n",
       "      <th>EstimatedReturn</th>\n",
       "      <th>ProsperScore</th>\n",
       "      <th>IsBorrowerHomeowner</th>\n",
       "      <th>IncomeRange</th>\n",
       "      <th>IncomeVerifiable</th>\n",
       "      <th>StatedMonthlyIncome</th>\n",
       "      <th>LoanCurrentDaysDelinquent</th>\n",
       "      <th>LoanOriginalAmount</th>\n",
       "      <th>LP_CustomerPayments</th>\n",
       "      <th>LP_CustomerPrincipalPayments</th>\n",
       "      <th>PercentFunded</th>\n",
       "      <th>Investors</th>\n",
       "      <th>LoanComplete</th>\n",
       "    </tr>\n",
       "  </thead>\n",
       "  <tbody>\n",
       "    <tr>\n",
       "      <th>1</th>\n",
       "      <td>0.12016</td>\n",
       "      <td>0.0920</td>\n",
       "      <td>0.0820</td>\n",
       "      <td>0.07960</td>\n",
       "      <td>0.0249</td>\n",
       "      <td>0.05470</td>\n",
       "      <td>7.0</td>\n",
       "      <td>False</td>\n",
       "      <td>$50,000-74,999</td>\n",
       "      <td>True</td>\n",
       "      <td>6125.000000</td>\n",
       "      <td>0</td>\n",
       "      <td>10000</td>\n",
       "      <td>0.00</td>\n",
       "      <td>0.00</td>\n",
       "      <td>1.0</td>\n",
       "      <td>1</td>\n",
       "      <td>1</td>\n",
       "    </tr>\n",
       "    <tr>\n",
       "      <th>3</th>\n",
       "      <td>0.12528</td>\n",
       "      <td>0.0974</td>\n",
       "      <td>0.0874</td>\n",
       "      <td>0.08490</td>\n",
       "      <td>0.0249</td>\n",
       "      <td>0.06000</td>\n",
       "      <td>9.0</td>\n",
       "      <td>True</td>\n",
       "      <td>$25,000-49,999</td>\n",
       "      <td>True</td>\n",
       "      <td>2875.000000</td>\n",
       "      <td>0</td>\n",
       "      <td>10000</td>\n",
       "      <td>5143.20</td>\n",
       "      <td>4091.09</td>\n",
       "      <td>1.0</td>\n",
       "      <td>158</td>\n",
       "      <td>1</td>\n",
       "    </tr>\n",
       "    <tr>\n",
       "      <th>4</th>\n",
       "      <td>0.24614</td>\n",
       "      <td>0.2085</td>\n",
       "      <td>0.1985</td>\n",
       "      <td>0.18316</td>\n",
       "      <td>0.0925</td>\n",
       "      <td>0.09066</td>\n",
       "      <td>4.0</td>\n",
       "      <td>True</td>\n",
       "      <td>$100,000+</td>\n",
       "      <td>True</td>\n",
       "      <td>9583.333333</td>\n",
       "      <td>0</td>\n",
       "      <td>15000</td>\n",
       "      <td>2819.85</td>\n",
       "      <td>1563.22</td>\n",
       "      <td>1.0</td>\n",
       "      <td>20</td>\n",
       "      <td>1</td>\n",
       "    </tr>\n",
       "    <tr>\n",
       "      <th>5</th>\n",
       "      <td>0.15425</td>\n",
       "      <td>0.1314</td>\n",
       "      <td>0.1214</td>\n",
       "      <td>0.11567</td>\n",
       "      <td>0.0449</td>\n",
       "      <td>0.07077</td>\n",
       "      <td>10.0</td>\n",
       "      <td>True</td>\n",
       "      <td>$100,000+</td>\n",
       "      <td>True</td>\n",
       "      <td>8333.333333</td>\n",
       "      <td>0</td>\n",
       "      <td>15000</td>\n",
       "      <td>679.34</td>\n",
       "      <td>351.89</td>\n",
       "      <td>1.0</td>\n",
       "      <td>1</td>\n",
       "      <td>1</td>\n",
       "    </tr>\n",
       "    <tr>\n",
       "      <th>6</th>\n",
       "      <td>0.31032</td>\n",
       "      <td>0.2712</td>\n",
       "      <td>0.2612</td>\n",
       "      <td>0.23820</td>\n",
       "      <td>0.1275</td>\n",
       "      <td>0.11070</td>\n",
       "      <td>2.0</td>\n",
       "      <td>False</td>\n",
       "      <td>$25,000-49,999</td>\n",
       "      <td>True</td>\n",
       "      <td>2083.333333</td>\n",
       "      <td>0</td>\n",
       "      <td>3000</td>\n",
       "      <td>1226.70</td>\n",
       "      <td>604.25</td>\n",
       "      <td>1.0</td>\n",
       "      <td>1</td>\n",
       "      <td>1</td>\n",
       "    </tr>\n",
       "  </tbody>\n",
       "</table>\n",
       "</div>"
      ],
      "text/plain": [
       "   BorrowerAPR  BorrowerRate  LenderYield  EstimatedEffectiveYield  \\\n",
       "1      0.12016        0.0920       0.0820                  0.07960   \n",
       "3      0.12528        0.0974       0.0874                  0.08490   \n",
       "4      0.24614        0.2085       0.1985                  0.18316   \n",
       "5      0.15425        0.1314       0.1214                  0.11567   \n",
       "6      0.31032        0.2712       0.2612                  0.23820   \n",
       "\n",
       "   EstimatedLoss  EstimatedReturn  ProsperScore  IsBorrowerHomeowner  \\\n",
       "1         0.0249          0.05470           7.0                False   \n",
       "3         0.0249          0.06000           9.0                 True   \n",
       "4         0.0925          0.09066           4.0                 True   \n",
       "5         0.0449          0.07077          10.0                 True   \n",
       "6         0.1275          0.11070           2.0                False   \n",
       "\n",
       "      IncomeRange  IncomeVerifiable  StatedMonthlyIncome  \\\n",
       "1  $50,000-74,999              True          6125.000000   \n",
       "3  $25,000-49,999              True          2875.000000   \n",
       "4       $100,000+              True          9583.333333   \n",
       "5       $100,000+              True          8333.333333   \n",
       "6  $25,000-49,999              True          2083.333333   \n",
       "\n",
       "   LoanCurrentDaysDelinquent  LoanOriginalAmount  LP_CustomerPayments  \\\n",
       "1                          0               10000                 0.00   \n",
       "3                          0               10000              5143.20   \n",
       "4                          0               15000              2819.85   \n",
       "5                          0               15000               679.34   \n",
       "6                          0                3000              1226.70   \n",
       "\n",
       "   LP_CustomerPrincipalPayments  PercentFunded  Investors  LoanComplete  \n",
       "1                          0.00            1.0          1             1  \n",
       "3                       4091.09            1.0        158             1  \n",
       "4                       1563.22            1.0         20             1  \n",
       "5                        351.89            1.0          1             1  \n",
       "6                        604.25            1.0          1             1  "
      ]
     },
     "execution_count": 2,
     "metadata": {},
     "output_type": "execute_result"
    }
   ],
   "source": [
    "# read from prosperLoanData.csv columns \n",
    "selected_cols = ['BorrowerAPR', 'BorrowerRate', 'LenderYield', 'EstimatedEffectiveYield',\n",
    "       'EstimatedLoss', 'EstimatedReturn', 'ProsperScore',\n",
    "       'IsBorrowerHomeowner', 'IncomeRange', 'IncomeVerifiable',\n",
    "       'StatedMonthlyIncome', 'LoanCurrentDaysDelinquent',\n",
    "       'LoanOriginalAmount', 'LP_CustomerPayments',\n",
    "       'LP_CustomerPrincipalPayments', 'PercentFunded', 'Investors','LoanStatus']\n",
    "df = pd.read_csv('prosperLoanData.csv', usecols=selected_cols)\n",
    "df.dropna(inplace=True)\n",
    "df[\"LoanComplete\"] = df[\"LoanStatus\"].apply(lambda x: 1 if x in[\"Completed\", \"Current\", \"FinalPaymentInProgress\"] else 0)\n",
    "df.drop(columns=[\"LoanStatus\"], inplace=True)\n",
    "df.head()"
   ]
  },
  {
   "cell_type": "code",
   "execution_count": 3,
   "id": "bc5b48aa",
   "metadata": {},
   "outputs": [],
   "source": [
    "income_mapping = {\n",
    "    'Not employed': 0,\n",
    "    '$0': 1,\n",
    "    '$1-24,999': 2,\n",
    "    '$25,000-49,999': 3,\n",
    "    '$50,000-74,999': 4,\n",
    "    '$75,000-99,999': 5,\n",
    "    '$100,000+': 6\n",
    "}\n",
    "\n",
    "df['IncomeRange'] = df['IncomeRange'].map(income_mapping)\n",
    "df['IsBorrowerHomeowner'] = df['IsBorrowerHomeowner'].astype(int)\n",
    "df['IncomeVerifiable'] = df['IncomeVerifiable'].astype(int)"
   ]
  },
  {
   "cell_type": "code",
   "execution_count": 4,
   "id": "cfb1a028",
   "metadata": {},
   "outputs": [
    {
     "name": "stdout",
     "output_type": "stream",
     "text": [
      "(84853, 18)\n"
     ]
    },
    {
     "data": {
      "text/html": [
       "<div>\n",
       "<style scoped>\n",
       "    .dataframe tbody tr th:only-of-type {\n",
       "        vertical-align: middle;\n",
       "    }\n",
       "\n",
       "    .dataframe tbody tr th {\n",
       "        vertical-align: top;\n",
       "    }\n",
       "\n",
       "    .dataframe thead th {\n",
       "        text-align: right;\n",
       "    }\n",
       "</style>\n",
       "<table border=\"1\" class=\"dataframe\">\n",
       "  <thead>\n",
       "    <tr style=\"text-align: right;\">\n",
       "      <th></th>\n",
       "      <th>BorrowerAPR</th>\n",
       "      <th>BorrowerRate</th>\n",
       "      <th>LenderYield</th>\n",
       "      <th>EstimatedEffectiveYield</th>\n",
       "      <th>EstimatedLoss</th>\n",
       "      <th>EstimatedReturn</th>\n",
       "      <th>ProsperScore</th>\n",
       "      <th>IsBorrowerHomeowner</th>\n",
       "      <th>IncomeRange</th>\n",
       "      <th>IncomeVerifiable</th>\n",
       "      <th>StatedMonthlyIncome</th>\n",
       "      <th>LoanCurrentDaysDelinquent</th>\n",
       "      <th>LoanOriginalAmount</th>\n",
       "      <th>LP_CustomerPayments</th>\n",
       "      <th>LP_CustomerPrincipalPayments</th>\n",
       "      <th>PercentFunded</th>\n",
       "      <th>Investors</th>\n",
       "      <th>LoanComplete</th>\n",
       "    </tr>\n",
       "  </thead>\n",
       "  <tbody>\n",
       "    <tr>\n",
       "      <th>1</th>\n",
       "      <td>0.12016</td>\n",
       "      <td>0.0920</td>\n",
       "      <td>0.0820</td>\n",
       "      <td>0.07960</td>\n",
       "      <td>0.0249</td>\n",
       "      <td>0.05470</td>\n",
       "      <td>7.0</td>\n",
       "      <td>0</td>\n",
       "      <td>4</td>\n",
       "      <td>1</td>\n",
       "      <td>6125.000000</td>\n",
       "      <td>0</td>\n",
       "      <td>10000</td>\n",
       "      <td>0.00</td>\n",
       "      <td>0.00</td>\n",
       "      <td>1.0</td>\n",
       "      <td>1</td>\n",
       "      <td>1</td>\n",
       "    </tr>\n",
       "    <tr>\n",
       "      <th>3</th>\n",
       "      <td>0.12528</td>\n",
       "      <td>0.0974</td>\n",
       "      <td>0.0874</td>\n",
       "      <td>0.08490</td>\n",
       "      <td>0.0249</td>\n",
       "      <td>0.06000</td>\n",
       "      <td>9.0</td>\n",
       "      <td>1</td>\n",
       "      <td>3</td>\n",
       "      <td>1</td>\n",
       "      <td>2875.000000</td>\n",
       "      <td>0</td>\n",
       "      <td>10000</td>\n",
       "      <td>5143.20</td>\n",
       "      <td>4091.09</td>\n",
       "      <td>1.0</td>\n",
       "      <td>158</td>\n",
       "      <td>1</td>\n",
       "    </tr>\n",
       "    <tr>\n",
       "      <th>4</th>\n",
       "      <td>0.24614</td>\n",
       "      <td>0.2085</td>\n",
       "      <td>0.1985</td>\n",
       "      <td>0.18316</td>\n",
       "      <td>0.0925</td>\n",
       "      <td>0.09066</td>\n",
       "      <td>4.0</td>\n",
       "      <td>1</td>\n",
       "      <td>6</td>\n",
       "      <td>1</td>\n",
       "      <td>9583.333333</td>\n",
       "      <td>0</td>\n",
       "      <td>15000</td>\n",
       "      <td>2819.85</td>\n",
       "      <td>1563.22</td>\n",
       "      <td>1.0</td>\n",
       "      <td>20</td>\n",
       "      <td>1</td>\n",
       "    </tr>\n",
       "    <tr>\n",
       "      <th>5</th>\n",
       "      <td>0.15425</td>\n",
       "      <td>0.1314</td>\n",
       "      <td>0.1214</td>\n",
       "      <td>0.11567</td>\n",
       "      <td>0.0449</td>\n",
       "      <td>0.07077</td>\n",
       "      <td>10.0</td>\n",
       "      <td>1</td>\n",
       "      <td>6</td>\n",
       "      <td>1</td>\n",
       "      <td>8333.333333</td>\n",
       "      <td>0</td>\n",
       "      <td>15000</td>\n",
       "      <td>679.34</td>\n",
       "      <td>351.89</td>\n",
       "      <td>1.0</td>\n",
       "      <td>1</td>\n",
       "      <td>1</td>\n",
       "    </tr>\n",
       "    <tr>\n",
       "      <th>6</th>\n",
       "      <td>0.31032</td>\n",
       "      <td>0.2712</td>\n",
       "      <td>0.2612</td>\n",
       "      <td>0.23820</td>\n",
       "      <td>0.1275</td>\n",
       "      <td>0.11070</td>\n",
       "      <td>2.0</td>\n",
       "      <td>0</td>\n",
       "      <td>3</td>\n",
       "      <td>1</td>\n",
       "      <td>2083.333333</td>\n",
       "      <td>0</td>\n",
       "      <td>3000</td>\n",
       "      <td>1226.70</td>\n",
       "      <td>604.25</td>\n",
       "      <td>1.0</td>\n",
       "      <td>1</td>\n",
       "      <td>1</td>\n",
       "    </tr>\n",
       "  </tbody>\n",
       "</table>\n",
       "</div>"
      ],
      "text/plain": [
       "   BorrowerAPR  BorrowerRate  LenderYield  EstimatedEffectiveYield  \\\n",
       "1      0.12016        0.0920       0.0820                  0.07960   \n",
       "3      0.12528        0.0974       0.0874                  0.08490   \n",
       "4      0.24614        0.2085       0.1985                  0.18316   \n",
       "5      0.15425        0.1314       0.1214                  0.11567   \n",
       "6      0.31032        0.2712       0.2612                  0.23820   \n",
       "\n",
       "   EstimatedLoss  EstimatedReturn  ProsperScore  IsBorrowerHomeowner  \\\n",
       "1         0.0249          0.05470           7.0                    0   \n",
       "3         0.0249          0.06000           9.0                    1   \n",
       "4         0.0925          0.09066           4.0                    1   \n",
       "5         0.0449          0.07077          10.0                    1   \n",
       "6         0.1275          0.11070           2.0                    0   \n",
       "\n",
       "   IncomeRange  IncomeVerifiable  StatedMonthlyIncome  \\\n",
       "1            4                 1          6125.000000   \n",
       "3            3                 1          2875.000000   \n",
       "4            6                 1          9583.333333   \n",
       "5            6                 1          8333.333333   \n",
       "6            3                 1          2083.333333   \n",
       "\n",
       "   LoanCurrentDaysDelinquent  LoanOriginalAmount  LP_CustomerPayments  \\\n",
       "1                          0               10000                 0.00   \n",
       "3                          0               10000              5143.20   \n",
       "4                          0               15000              2819.85   \n",
       "5                          0               15000               679.34   \n",
       "6                          0                3000              1226.70   \n",
       "\n",
       "   LP_CustomerPrincipalPayments  PercentFunded  Investors  LoanComplete  \n",
       "1                          0.00            1.0          1             1  \n",
       "3                       4091.09            1.0        158             1  \n",
       "4                       1563.22            1.0         20             1  \n",
       "5                        351.89            1.0          1             1  \n",
       "6                        604.25            1.0          1             1  "
      ]
     },
     "execution_count": 4,
     "metadata": {},
     "output_type": "execute_result"
    }
   ],
   "source": [
    "print(df.shape)\n",
    "df.head()"
   ]
  },
  {
   "cell_type": "code",
   "execution_count": 5,
   "id": "658ecc0d",
   "metadata": {},
   "outputs": [
    {
     "data": {
      "text/plain": [
       "((84853, 17), (84853,))"
      ]
     },
     "execution_count": 5,
     "metadata": {},
     "output_type": "execute_result"
    }
   ],
   "source": [
    "x_df = df.drop(columns=[\"LoanComplete\"])\n",
    "y_df = df[\"LoanComplete\"]\n",
    "x_df.shape, y_df.shape"
   ]
  },
  {
   "cell_type": "code",
   "execution_count": 6,
   "id": "929cb75a",
   "metadata": {},
   "outputs": [],
   "source": [
    "from sklearn.decomposition import PCA\n",
    "from sklearn.preprocessing import StandardScaler\n",
    "\n",
    "# Standardize the data\n",
    "scaler = StandardScaler()\n",
    "scaled_data = scaler.fit_transform(x_df)"
   ]
  },
  {
   "cell_type": "markdown",
   "id": "c55af77c",
   "metadata": {},
   "source": [
    "Will retain only the first 4 components of the data as it contributes the most significantly to the variance."
   ]
  },
  {
   "cell_type": "code",
   "execution_count": 7,
   "id": "b99d7b59",
   "metadata": {},
   "outputs": [],
   "source": [
    "#Change number of components to 4\n",
    "pca = PCA(n_components=4)\n",
    "principal_components = pca.fit_transform(scaled_data)"
   ]
  },
  {
   "cell_type": "code",
   "execution_count": 8,
   "id": "7e36e0f8",
   "metadata": {},
   "outputs": [
    {
     "data": {
      "text/plain": [
       "0.6704292998650647"
      ]
     },
     "execution_count": 8,
     "metadata": {},
     "output_type": "execute_result"
    }
   ],
   "source": [
    "# variance explained sum\n",
    "pca.explained_variance_ratio_.sum()"
   ]
  },
  {
   "cell_type": "code",
   "execution_count": 9,
   "id": "c0c8e09f",
   "metadata": {},
   "outputs": [
    {
     "data": {
      "text/html": [
       "<div>\n",
       "<style scoped>\n",
       "    .dataframe tbody tr th:only-of-type {\n",
       "        vertical-align: middle;\n",
       "    }\n",
       "\n",
       "    .dataframe tbody tr th {\n",
       "        vertical-align: top;\n",
       "    }\n",
       "\n",
       "    .dataframe thead th {\n",
       "        text-align: right;\n",
       "    }\n",
       "</style>\n",
       "<table border=\"1\" class=\"dataframe\">\n",
       "  <thead>\n",
       "    <tr style=\"text-align: right;\">\n",
       "      <th></th>\n",
       "      <th>PC1</th>\n",
       "      <th>PC2</th>\n",
       "      <th>PC3</th>\n",
       "      <th>PC4</th>\n",
       "    </tr>\n",
       "  </thead>\n",
       "  <tbody>\n",
       "    <tr>\n",
       "      <th>0</th>\n",
       "      <td>2.814212</td>\n",
       "      <td>-2.128059</td>\n",
       "      <td>-0.435319</td>\n",
       "      <td>-0.226989</td>\n",
       "    </tr>\n",
       "    <tr>\n",
       "      <th>1</th>\n",
       "      <td>3.288787</td>\n",
       "      <td>-0.025787</td>\n",
       "      <td>-1.099136</td>\n",
       "      <td>-0.002262</td>\n",
       "    </tr>\n",
       "    <tr>\n",
       "      <th>2</th>\n",
       "      <td>-0.123369</td>\n",
       "      <td>0.155941</td>\n",
       "      <td>2.168885</td>\n",
       "      <td>-0.289513</td>\n",
       "    </tr>\n",
       "    <tr>\n",
       "      <th>3</th>\n",
       "      <td>2.669672</td>\n",
       "      <td>-0.870111</td>\n",
       "      <td>1.571753</td>\n",
       "      <td>0.227844</td>\n",
       "    </tr>\n",
       "    <tr>\n",
       "      <th>4</th>\n",
       "      <td>-3.103749</td>\n",
       "      <td>-0.986580</td>\n",
       "      <td>-0.434163</td>\n",
       "      <td>-0.803785</td>\n",
       "    </tr>\n",
       "  </tbody>\n",
       "</table>\n",
       "</div>"
      ],
      "text/plain": [
       "        PC1       PC2       PC3       PC4\n",
       "0  2.814212 -2.128059 -0.435319 -0.226989\n",
       "1  3.288787 -0.025787 -1.099136 -0.002262\n",
       "2 -0.123369  0.155941  2.168885 -0.289513\n",
       "3  2.669672 -0.870111  1.571753  0.227844\n",
       "4 -3.103749 -0.986580 -0.434163 -0.803785"
      ]
     },
     "execution_count": 9,
     "metadata": {},
     "output_type": "execute_result"
    }
   ],
   "source": [
    "df_pca = pd.DataFrame(data=principal_components, columns=['PC1', 'PC2', 'PC3', 'PC4'])\n",
    "df_pca.head()"
   ]
  },
  {
   "cell_type": "markdown",
   "id": "1bc32bf8",
   "metadata": {},
   "source": [
    "### First NN Model"
   ]
  },
  {
   "cell_type": "code",
   "execution_count": 28,
   "id": "a15dd8c9",
   "metadata": {},
   "outputs": [],
   "source": [
    "from sklearn.model_selection import train_test_split\n",
    "import tensorflow as tf\n",
    "from tensorflow.keras.models import Sequential\n",
    "from tensorflow.keras.layers import Dense\n",
    "import keras.backend as K\n",
    "\n",
    "def f1_metric(y_true, y_pred):\n",
    "    true_positives = K.sum(K.round(K.clip(y_true * y_pred, 0, 1)))\n",
    "    possible_positives = K.sum(K.round(K.clip(y_true, 0, 1)))\n",
    "    predicted_positives = K.sum(K.round(K.clip(y_pred, 0, 1)))\n",
    "    precision = true_positives / (predicted_positives + K.epsilon())\n",
    "    recall = true_positives / (possible_positives + K.epsilon())\n",
    "    f1_val = 2*(precision*recall)/(precision+recall+K.epsilon())\n",
    "    return f1_val\n",
    "\n",
    "# Split the data into training, validation, and test sets\n",
    "X_train, X_temp, y_train, y_temp = train_test_split(df_pca, y_df, test_size=0.3, random_state=42)\n",
    "X_val, X_test, y_val, y_test = train_test_split(X_temp, y_temp, test_size=0.5, random_state=42)\n",
    "\n",
    "# Build the neural network\n",
    "# model = Sequential([\n",
    "#     Dense(64, activation='relu', input_shape=(X_train.shape[1],)),\n",
    "#     Dense(32, activation='relu'),\n",
    "#     Dense(1, activation='sigmoid')  # Binary classification, so using sigmoid activation\n",
    "# ])\n",
    "\n",
    "# # Compile the model\n",
    "# model.compile(optimizer='adam', loss='binary_crossentropy', metrics=['accuracy', f1_metric])\n",
    "\n",
    "# # Train the model\n",
    "# history = model.fit(X_train, y_train, epochs=10, batch_size=32, validation_data=(X_val, y_val))\n"
   ]
  },
  {
   "cell_type": "code",
   "execution_count": 12,
   "id": "e1812b3d",
   "metadata": {},
   "outputs": [
    {
     "ename": "NameError",
     "evalue": "name 'model' is not defined",
     "output_type": "error",
     "traceback": [
      "\u001b[1;31m---------------------------------------------------------------------------\u001b[0m",
      "\u001b[1;31mNameError\u001b[0m                                 Traceback (most recent call last)",
      "Cell \u001b[1;32mIn[12], line 2\u001b[0m\n\u001b[0;32m      1\u001b[0m \u001b[38;5;66;03m# eval on test\u001b[39;00m\n\u001b[1;32m----> 2\u001b[0m results \u001b[38;5;241m=\u001b[39m \u001b[43mmodel\u001b[49m\u001b[38;5;241m.\u001b[39mevaluate(X_test, y_test)\n\u001b[0;32m      3\u001b[0m \u001b[38;5;28mprint\u001b[39m(\u001b[38;5;124m'\u001b[39m\u001b[38;5;124mtest loss, test acc, test f1:\u001b[39m\u001b[38;5;124m'\u001b[39m, results)\n",
      "\u001b[1;31mNameError\u001b[0m: name 'model' is not defined"
     ]
    }
   ],
   "source": [
    "# eval on test\n",
    "results = model.evaluate(X_test, y_test)\n",
    "print('test loss, test acc, test f1:', results)"
   ]
  },
  {
   "cell_type": "code",
   "execution_count": null,
   "id": "b6c01db7",
   "metadata": {},
   "outputs": [
    {
     "data": {
      "image/png": "[encoded data removed]",
      "text/plain": [
       "<Figure size 640x480 with 1 Axes>"
      ]
     },
     "metadata": {},
     "output_type": "display_data"
    }
   ],
   "source": [
    "# plot loss\n",
    "import matplotlib.pyplot as plt\n",
    "plt.plot(history.history['loss'], label='Training Loss')\n",
    "plt.plot(history.history['val_loss'], label='Validation Loss')\n",
    "plt.xlabel('Epochs')\n",
    "plt.ylabel('Loss')\n",
    "plt.title('Training and Validation Loss')\n",
    "plt.legend()\n",
    "plt.show()"
   ]
  },
  {
   "cell_type": "markdown",
   "id": "e1836a41",
   "metadata": {},
   "source": [
    "### Second Model To Reduce Overfitting\n",
    "* Smaller NN Architecture\n",
    "* Added DropOuts and Regularization\n",
    "* Added Early Stopping\n",
    "* Reduced training batch size"
   ]
  },
  {
   "cell_type": "code",
   "execution_count": 47,
   "id": "a8f4c58c",
   "metadata": {},
   "outputs": [
    {
     "name": "stdout",
     "output_type": "stream",
     "text": [
      "Epoch 1/10\n",
      "3713/3713 [==============================] - 19s 5ms/step - loss: 0.2071 - accuracy: 0.9467 - f1_metric: 0.9687 - val_loss: 0.1465 - val_accuracy: 0.9586 - val_f1_metric: 0.9766\n",
      "Epoch 2/10\n",
      "3713/3713 [==============================] - 17s 5ms/step - loss: 0.1449 - accuracy: 0.9593 - f1_metric: 0.9769 - val_loss: 0.1370 - val_accuracy: 0.9605 - val_f1_metric: 0.9776\n",
      "Epoch 3/10\n",
      "3713/3713 [==============================] - 17s 5ms/step - loss: 0.1407 - accuracy: 0.9602 - f1_metric: 0.9775 - val_loss: 0.1379 - val_accuracy: 0.9616 - val_f1_metric: 0.9783\n",
      "Epoch 4/10\n",
      "3713/3713 [==============================] - 18s 5ms/step - loss: 0.1377 - accuracy: 0.9606 - f1_metric: 0.9776 - val_loss: 0.1350 - val_accuracy: 0.9612 - val_f1_metric: 0.9779\n",
      "Epoch 5/10\n",
      "3713/3713 [==============================] - 18s 5ms/step - loss: 0.1357 - accuracy: 0.9614 - f1_metric: 0.9781 - val_loss: 0.1310 - val_accuracy: 0.9620 - val_f1_metric: 0.9783\n",
      "Epoch 6/10\n",
      "3713/3713 [==============================] - 21s 6ms/step - loss: 0.1351 - accuracy: 0.9619 - f1_metric: 0.9784 - val_loss: 0.1335 - val_accuracy: 0.9629 - val_f1_metric: 0.9790\n",
      "Epoch 7/10\n",
      "3713/3713 [==============================] - 22s 6ms/step - loss: 0.1346 - accuracy: 0.9623 - f1_metric: 0.9786 - val_loss: 0.1301 - val_accuracy: 0.9624 - val_f1_metric: 0.9786\n",
      "Epoch 8/10\n",
      "3713/3713 [==============================] - 22s 6ms/step - loss: 0.1329 - accuracy: 0.9624 - f1_metric: 0.9786 - val_loss: 0.1308 - val_accuracy: 0.9612 - val_f1_metric: 0.9779\n",
      "Epoch 9/10\n",
      "3713/3713 [==============================] - 22s 6ms/step - loss: 0.1323 - accuracy: 0.9628 - f1_metric: 0.9789 - val_loss: 0.1304 - val_accuracy: 0.9632 - val_f1_metric: 0.9791\n",
      "Epoch 10/10\n",
      "3713/3713 [==============================] - 21s 6ms/step - loss: 0.1319 - accuracy: 0.9628 - f1_metric: 0.9789 - val_loss: 0.1301 - val_accuracy: 0.9632 - val_f1_metric: 0.9790\n"
     ]
    }
   ],
   "source": [
    "from tensorflow.keras.layers import Dropout\n",
    "from tensorflow.keras import regularizers\n",
    "\n",
    "# Build the neural network with dropout layers and reduced complexity\n",
    "model2 = Sequential([\n",
    "    Dense(32, activation='relu', input_shape=(X_train.shape[1],)),\n",
    "    Dropout(0.2),  # Add dropout layer with 20% dropout rate\n",
    "    Dense(16, activation='relu', kernel_regularizer=regularizers.l2(0.01)),  # Add L2 regularization\n",
    "    Dropout(0.2),  # Add another dropout layer\n",
    "    Dense(1, activation='sigmoid')  # Binary classification, so using sigmoid activation\n",
    "])\n",
    "\n",
    "model2.compile(optimizer=tf.keras.optimizers.Adam(learning_rate=0.001), \n",
    "              loss='binary_crossentropy', \n",
    "              metrics=['accuracy', f1_metric])\n",
    "\n",
    "# Implement early stopping\n",
    "early_stopping = tf.keras.callbacks.EarlyStopping(monitor='val_loss', patience=3, restore_best_weights=True)\n",
    "\n",
    "# Train the model with reduced batch size and early stopping\n",
    "history2 = model2.fit(X_train, y_train, epochs=10, batch_size=16, validation_data=(X_val, y_val), callbacks=[early_stopping])\n"
   ]
  },
  {
   "cell_type": "code",
   "execution_count": 48,
   "id": "22feceee",
   "metadata": {},
   "outputs": [
    {
     "name": "stdout",
     "output_type": "stream",
     "text": [
      "  1/398 [..............................] - ETA: 9s - loss: 0.1418 - accuracy: 0.9688 - f1_metric: 0.9836"
     ]
    },
    {
     "name": "stdout",
     "output_type": "stream",
     "text": [
      "398/398 [==============================] - 1s 4ms/step - loss: 0.1266 - accuracy: 0.9640 - f1_metric: 0.9800\n",
      "test loss, test acc, test f1: [0.12662361562252045, 0.964016318321228, 0.9799805283546448]\n"
     ]
    }
   ],
   "source": [
    "results = model2.evaluate(X_test, y_test)\n",
    "print('test loss, test acc, test f1:', results)"
   ]
  },
  {
   "cell_type": "code",
   "execution_count": 49,
   "id": "94affa42",
   "metadata": {},
   "outputs": [
    {
     "data": {
      "image/png": "[encoded data removed]",
      "text/plain": [
       "<Figure size 640x480 with 1 Axes>"
      ]
     },
     "metadata": {},
     "output_type": "display_data"
    }
   ],
   "source": [
    "import matplotlib.pyplot as plt\n",
    "plt.plot(history2.history['loss'], label='Training Loss')\n",
    "plt.plot(history2.history['val_loss'], label='Validation Loss')\n",
    "plt.xlabel('Epochs')\n",
    "plt.ylabel('Loss')\n",
    "plt.title('Training and Validation Loss')\n",
    "plt.legend()\n",
    "plt.show()"
   ]
  },
  {
   "cell_type": "markdown",
   "id": "ee36f819",
   "metadata": {},
   "source": [
    "## Model 3 \n",
    "\n",
    "- Batch Normalization (Ensures stablization of model) (improved LR)\n",
    "- Added  Learning Rate schedular (Allows easier converging of models)\n",
    "- Increased size of network\n",
    "- Lowered Dropout to 0.1\n",
    "- Both dense layers have an L2 Regularization (Ridge Regression)\n",
    "- Replaced \n"
   ]
  },
  {
   "cell_type": "code",
   "execution_count": 50,
   "id": "c2cae38c",
   "metadata": {},
   "outputs": [
    {
     "name": "stdout",
     "output_type": "stream",
     "text": [
      "Epoch 1/10\n",
      "3713/3713 [==============================] - 30s 8ms/step - loss: 0.2631 - accuracy: 0.9389 - f1_metric: 0.9644 - val_loss: 0.1576 - val_accuracy: 0.9574 - val_f1_metric: 0.9759 - lr: 0.0010\n",
      "Epoch 2/10\n",
      "3713/3713 [==============================] - 29s 8ms/step - loss: 0.1722 - accuracy: 0.9515 - f1_metric: 0.9726 - val_loss: 0.1467 - val_accuracy: 0.9616 - val_f1_metric: 0.9783 - lr: 0.0010\n",
      "Epoch 3/10\n",
      "3713/3713 [==============================] - 30s 8ms/step - loss: 0.1657 - accuracy: 0.9537 - f1_metric: 0.9738 - val_loss: 0.1468 - val_accuracy: 0.9602 - val_f1_metric: 0.9773 - lr: 0.0010\n",
      "Epoch 4/10\n",
      "3713/3713 [==============================] - 31s 8ms/step - loss: 0.1635 - accuracy: 0.9536 - f1_metric: 0.9737 - val_loss: 0.1496 - val_accuracy: 0.9585 - val_f1_metric: 0.9766 - lr: 0.0010\n",
      "Epoch 5/10\n",
      "3713/3713 [==============================] - 30s 8ms/step - loss: 0.1605 - accuracy: 0.9547 - f1_metric: 0.9745 - val_loss: 0.1449 - val_accuracy: 0.9600 - val_f1_metric: 0.9775 - lr: 0.0010\n",
      "Epoch 6/10\n",
      "3713/3713 [==============================] - 30s 8ms/step - loss: 0.1599 - accuracy: 0.9537 - f1_metric: 0.9738 - val_loss: 0.1456 - val_accuracy: 0.9584 - val_f1_metric: 0.9766 - lr: 0.0010\n",
      "Epoch 7/10\n",
      "3713/3713 [==============================] - 32s 9ms/step - loss: 0.1579 - accuracy: 0.9539 - f1_metric: 0.9739 - val_loss: 0.1430 - val_accuracy: 0.9574 - val_f1_metric: 0.9760 - lr: 0.0010\n",
      "Epoch 8/10\n",
      "3713/3713 [==============================] - 35s 10ms/step - loss: 0.1577 - accuracy: 0.9529 - f1_metric: 0.9734 - val_loss: 0.1419 - val_accuracy: 0.9591 - val_f1_metric: 0.9769 - lr: 0.0010\n",
      "Epoch 9/10\n",
      "3713/3713 [==============================] - 37s 10ms/step - loss: 0.1578 - accuracy: 0.9537 - f1_metric: 0.9738 - val_loss: 0.1415 - val_accuracy: 0.9602 - val_f1_metric: 0.9775 - lr: 0.0010\n",
      "Epoch 10/10\n",
      "3713/3713 [==============================] - 37s 10ms/step - loss: 0.1581 - accuracy: 0.9537 - f1_metric: 0.9738 - val_loss: 0.1384 - val_accuracy: 0.9610 - val_f1_metric: 0.9780 - lr: 0.0010\n"
     ]
    }
   ],
   "source": [
    "from tensorflow.keras.layers import Dropout\n",
    "from tensorflow.keras.layers import BatchNormalization\n",
    "from tensorflow.keras.layers import Activation\n",
    "from tensorflow.keras import regularizers\n",
    "\n",
    "# Build the neural network with dropout layers and reduced complexity\n",
    "model3 = Sequential([\n",
    "    Dense(64, input_shape= (X_train.shape[1],)),\n",
    "    BatchNormalization(),\n",
    "    Activation('relu'),\n",
    "    Dropout(0.1),\n",
    "    Dense(32, kernel_regularizer= regularizers.l2(0.005)),\n",
    "    BatchNormalization(),\n",
    "    Activation('relu'),\n",
    "    Dropout(0.2),  # Add dropout layer with 20% dropout rate\n",
    "    Dense(16,kernel_regularizer = regularizers.l2(0.005)),  # Add L2 regularization\n",
    "    BatchNormalization(),\n",
    "    Activation('relu'),\n",
    "    Dropout(0.2),  # Add another dropout layer\n",
    "    Dense(1, activation='sigmoid')  # Binary classification, so using sigmoid activation\n",
    "])\n",
    "\n",
    "model3.compile(optimizer=tf.keras.optimizers.Adam(learning_rate=0.001), \n",
    "              loss='binary_crossentropy', \n",
    "              metrics=['accuracy', f1_metric])\n",
    "\n",
    "# Implement early stopping\n",
    "early_stopping = tf.keras.callbacks.EarlyStopping(monitor='val_loss', patience=3, restore_best_weights=True)\n",
    "\n",
    "\n",
    "# Learning rate schedular\n",
    "\n",
    "from tensorflow.keras.callbacks import LearningRateScheduler\n",
    "\n",
    "def scheduler(epoch, lr): # basic LR \n",
    "    if epoch < 10:\n",
    "        return lr\n",
    "    else:\n",
    "        return lr * tf.math.exp(-0.1)\n",
    "\n",
    "callback = LearningRateScheduler(scheduler)\n",
    "\n",
    "\n",
    "# Train the model with reduced batch size and early stopping\n",
    "history3 = model3.fit(X_train, y_train, epochs=10, batch_size=16, validation_data=(X_val, y_val), callbacks=[callback,early_stopping])"
   ]
  },
  {
   "cell_type": "code",
   "execution_count": 56,
   "id": "ec351f68",
   "metadata": {},
   "outputs": [
    {
     "name": "stdout",
     "output_type": "stream",
     "text": [
      "  1/398 [..............................] - ETA: 7s - loss: 0.1319 - accuracy: 0.9688 - f1_metric: 0.9836"
     ]
    },
    {
     "name": "stdout",
     "output_type": "stream",
     "text": [
      "398/398 [==============================] - 2s 4ms/step - loss: 0.1357 - accuracy: 0.9633 - f1_metric: 0.9796\n",
      "test loss, test acc, test f1: [0.13569504022598267, 0.9633092284202576, 0.9796361923217773]\n"
     ]
    }
   ],
   "source": [
    "results = model3.evaluate(X_test, y_test)\n",
    "print('test loss, test acc, test f1:', results)"
   ]
  },
  {
   "cell_type": "code",
   "execution_count": 54,
   "id": "a86a45f9",
   "metadata": {},
   "outputs": [
    {
     "data": {
      "image/png": "[encoded data removed]",
      "text/plain": [
       "<Figure size 640x480 with 1 Axes>"
      ]
     },
     "metadata": {},
     "output_type": "display_data"
    }
   ],
   "source": [
    "import matplotlib.pyplot as plt\n",
    "plt.plot(history3.history['loss'], label='Training Loss')\n",
    "plt.plot(history3.history['val_loss'], label='Validation Loss')\n",
    "plt.xlabel('Epochs')\n",
    "plt.ylabel('Loss')\n",
    "plt.title('Training and Validation Loss')\n",
    "plt.legend()\n",
    "plt.show()"
   ]
  }
 ],
 "metadata": {
  "kernelspec": {
   "display_name": "Python 3 (ipykernel)",
   "language": "python",
   "name": "python3"
  },
  "language_info": {
   "codemirror_mode": {
    "name": "ipython",
    "version": 3
   },
   "file_extension": ".py",
   "mimetype": "text/x-python",
   "name": "python",
   "nbconvert_exporter": "python",
   "pygments_lexer": "ipython3",
   "version": "3.9.17"
  }
 },
 "nbformat": 4,
 "nbformat_minor": 5
}

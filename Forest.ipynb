{
 "cells": [
  {
   "cell_type": "code",
   "execution_count": 8,
   "id": "a64a1f1a",
   "metadata": {},
   "outputs": [],
   "source": [
    "import pandas as pd\n",
    "import matplotlib.pyplot as plt\n",
    "import numpy as np\n",
    "\n",
    "from sklearn.model_selection import train_test_split\n",
    "from sklearn import preprocessing\n",
    "from sklearn.ensemble import RandomForestClassifier\n",
    "from sklearn.metrics import roc_auc_score"
   ]
  },
  {
   "cell_type": "code",
   "execution_count": 3,
   "id": "e0144d7c",
   "metadata": {},
   "outputs": [
    {
     "name": "stdout",
     "output_type": "stream",
     "text": [
      "(113937, 8)\n",
      "        LoanStatus  EmploymentStatus  LoanOriginalAmount  IsBorrowerHomeowner  \\\n",
      "0                1                 1                9425                    1   \n",
      "1                1                 1               10000                    0   \n",
      "3                1                 1               10000                    1   \n",
      "4                1                 1               15000                    1   \n",
      "5                1                 1               15000                    1   \n",
      "...            ...               ...                 ...                  ...   \n",
      "113932           1                 1               10000                    1   \n",
      "113933           1                 1                2000                    1   \n",
      "113934           1                 1               10000                    1   \n",
      "113935           1                 1               15000                    1   \n",
      "113936           1                 1                2000                    0   \n",
      "\n",
      "        CurrentDelinquencies  AmountDelinquent  CreditScoreAvg  \n",
      "0                        2.0             472.0           649.5  \n",
      "1                        0.0               0.0           689.5  \n",
      "3                        4.0           10056.0           809.5  \n",
      "4                        0.0               0.0           689.5  \n",
      "5                        0.0               0.0           749.5  \n",
      "...                      ...               ...             ...  \n",
      "113932                   0.0               0.0           709.5  \n",
      "113933                   1.0            5062.0           709.5  \n",
      "113934                   0.0               0.0           709.5  \n",
      "113935                   0.0               0.0           689.5  \n",
      "113936                   1.0             257.0           689.5  \n",
      "\n",
      "[106315 rows x 7 columns]\n"
     ]
    },
    {
     "name": "stderr",
     "output_type": "stream",
     "text": [
      "/var/folders/dg/qztys7fj1cg0sp52mvk7khkh0000gn/T/ipykernel_16392/3071364611.py:13: SettingWithCopyWarning: \n",
      "A value is trying to be set on a copy of a slice from a DataFrame.\n",
      "Try using .loc[row_indexer,col_indexer] = value instead\n",
      "\n",
      "See the caveats in the documentation: https://pandas.pydata.org/pandas-docs/stable/user_guide/indexing.html#returning-a-view-versus-a-copy\n",
      "  data_filtered['LoanStatus'] = data_filtered[\"LoanStatus\"].apply(lambda x: 1 if x in[\"Completed\", \"Current\", \"FinalPaymentInProgress\"] else 0)\n",
      "/var/folders/dg/qztys7fj1cg0sp52mvk7khkh0000gn/T/ipykernel_16392/3071364611.py:14: SettingWithCopyWarning: \n",
      "A value is trying to be set on a copy of a slice from a DataFrame.\n",
      "Try using .loc[row_indexer,col_indexer] = value instead\n",
      "\n",
      "See the caveats in the documentation: https://pandas.pydata.org/pandas-docs/stable/user_guide/indexing.html#returning-a-view-versus-a-copy\n",
      "  data_filtered['IsBorrowerHomeowner'] = data_filtered['IsBorrowerHomeowner'].apply(lambda x: 1 if x == True else 0)\n",
      "/var/folders/dg/qztys7fj1cg0sp52mvk7khkh0000gn/T/ipykernel_16392/3071364611.py:15: SettingWithCopyWarning: \n",
      "A value is trying to be set on a copy of a slice from a DataFrame.\n",
      "Try using .loc[row_indexer,col_indexer] = value instead\n",
      "\n",
      "See the caveats in the documentation: https://pandas.pydata.org/pandas-docs/stable/user_guide/indexing.html#returning-a-view-versus-a-copy\n",
      "  data_filtered['EmploymentStatus'] = data_filtered['EmploymentStatus'].apply(lambda x: 1 if x in ['Employed', 'Full-time', 'Self-employed', 'Part-time'] else 0)\n",
      "/var/folders/dg/qztys7fj1cg0sp52mvk7khkh0000gn/T/ipykernel_16392/3071364611.py:19: SettingWithCopyWarning: \n",
      "A value is trying to be set on a copy of a slice from a DataFrame.\n",
      "Try using .loc[row_indexer,col_indexer] = value instead\n",
      "\n",
      "See the caveats in the documentation: https://pandas.pydata.org/pandas-docs/stable/user_guide/indexing.html#returning-a-view-versus-a-copy\n",
      "  data['CreditScoreAvg'] = (data['CreditScoreRangeLower'] + data['CreditScoreRangeUpper'])/2\n",
      "/var/folders/dg/qztys7fj1cg0sp52mvk7khkh0000gn/T/ipykernel_16392/3071364611.py:20: SettingWithCopyWarning: \n",
      "A value is trying to be set on a copy of a slice from a DataFrame\n",
      "\n",
      "See the caveats in the documentation: https://pandas.pydata.org/pandas-docs/stable/user_guide/indexing.html#returning-a-view-versus-a-copy\n",
      "  data.drop(columns=['CreditScoreRangeUpper', 'CreditScoreRangeLower'], inplace=True)\n"
     ]
    }
   ],
   "source": [
    "columns = ['LoanStatus', 'EmploymentStatus', 'CreditScoreRangeLower',\n",
    "           'CreditScoreRangeUpper', 'LoanOriginalAmount', 'IsBorrowerHomeowner',\n",
    "            'CurrentDelinquencies', 'AmountDelinquent']\n",
    "\n",
    "data_unclean = pd.read_csv('prosperLoanData.csv')\n",
    "data_filtered = data_unclean[columns]\n",
    "print(data_filtered.shape)\n",
    "\n",
    "# for col in data_filtered:\n",
    "#     print(col)\n",
    "#     print(data_filtered[col].unique())\n",
    "\n",
    "#Converting Loan Status into a binary classification\n",
    "data_filtered['LoanStatus'] = data_filtered[\"LoanStatus\"].apply(lambda x: 1 if x in[\"Completed\", \"Current\", \"FinalPaymentInProgress\"] else 0)\n",
    "\n",
    "#Converting Booleans to Int\n",
    "data_filtered['IsBorrowerHomeowner'] = data_filtered['IsBorrowerHomeowner'].apply(lambda x: 1 if x == True else 0)\n",
    "\n",
    "#Converting Employment Status into a binary classification\n",
    "data_filtered['EmploymentStatus'] = data_filtered['EmploymentStatus'].apply(lambda x: 1 if x in ['Employed', 'Full-time', 'Self-employed', 'Part-time'] else 0)\n",
    "\n",
    "data = data_filtered.dropna()\n",
    "\n",
    "data['CreditScoreAvg'] = (data['CreditScoreRangeLower'] + data['CreditScoreRangeUpper'])/2\n",
    "data.drop(columns=['CreditScoreRangeUpper', 'CreditScoreRangeLower'], inplace=True)\n",
    "\n",
    "print(data)"
   ]
  },
  {
   "cell_type": "code",
   "execution_count": 14,
   "id": "c509353a",
   "metadata": {},
   "outputs": [
    {
     "name": "stdout",
     "output_type": "stream",
     "text": [
      "(26579, 6)\n",
      "(79736, 6)\n",
      "0.177436503248671\n",
      "0.17595787983364303\n"
     ]
    }
   ],
   "source": [
    "x_train, x_test, y_train, y_test = train_test_split(data.iloc[:, 1:data.shape[1]], data['LoanStatus'], train_size=0.75, shuffle=True, random_state=2)\n",
    "\n",
    "print(x_test.shape)\n",
    "print(x_train.shape)\n",
    "\n",
    "y_train_dist = np.bincount(np.array(y_train))\n",
    "y_test_dist = np.bincount(np.array(y_test))\n",
    "\n",
    "print(y_train_dist[0]/y_train_dist[1]) \n",
    "print(y_test_dist[0]/y_test_dist[1]) # Checking if the distribution of delinquent loans in the test and train datasets is roughly equal"
   ]
  },
  {
   "cell_type": "code",
   "execution_count": 15,
   "id": "a94c372b",
   "metadata": {},
   "outputs": [
    {
     "name": "stdout",
     "output_type": "stream",
     "text": [
      "Training set results\n",
      "Random Forests roc-auc: 0.8271910206061146\n",
      "Test set results\n",
      "Random Forests roc-auc: 0.6518149933304893\n"
     ]
    }
   ],
   "source": [
    "rf = RandomForestClassifier(n_estimators=30, random_state=2)\n",
    "# train the model\n",
    "rf.fit(x_train, y_train)\n",
    "# make predictions on train and test set\n",
    "pred_train = rf.predict_proba(x_train)\n",
    "pred_test = rf.predict_proba(x_test)\n",
    "print('Training set results')\n",
    "print('Random Forests roc-auc: {}'.format(roc_auc_score(y_train, pred_train[:,1], multi_class='ovr')))\n",
    "print('Test set results')\n",
    "print('Random Forests roc-auc: {}'.format(roc_auc_score(y_test, pred_test[:,1], multi_class='ovr')))"
   ]
  }
 ],
 "metadata": {
  "kernelspec": {
   "display_name": "Python 3 (ipykernel)",
   "language": "python",
   "name": "python3"
  },
  "language_info": {
   "codemirror_mode": {
    "name": "ipython",
    "version": 3
   },
   "file_extension": ".py",
   "mimetype": "text/x-python",
   "name": "python",
   "nbconvert_exporter": "python",
   "pygments_lexer": "ipython3",
   "version": "3.11.4"
  }
 },
 "nbformat": 4,
 "nbformat_minor": 5
}

{
 "cells": [
  {
   "cell_type": "code",
   "execution_count": null,
   "id": "a64a1f1a",
   "metadata": {},
   "outputs": [],
   "source": [
    "import pandas as pd\n",
    "import matplotlib.pyplot as plt\n",
    "\n",
    "from sklearn.model_selection import train_test_split\n",
    "from sklearn import preprocessing\n",
    "from sklearn.ensemble import RandomForestClassifier\n",
    "from sklearn.metrics import roc_auc_score"
   ]
  },
  {
   "cell_type": "code",
   "execution_count": null,
   "id": "e0144d7c",
   "metadata": {},
   "outputs": [],
   "source": [
    "# X_train, X_test, y_train, y_test = train_test_split(\n",
    "# dataML.drop(['town', 'remaining_lease'], axis=1), # predictors\n",
    "# dataML['town'], # target\n",
    "# test_size=0.3, # percentage of samples in test set\n",
    "# random_state=0)"
   ]
  },
  {
   "cell_type": "code",
   "execution_count": null,
   "id": "c509353a",
   "metadata": {},
   "outputs": [],
   "source": []
  },
  {
   "cell_type": "markdown",
   "id": "d2a19f1b",
   "metadata": {},
   "source": [
    "Pseudocode of random forest with reference to HDB price dataset  \n",
    "\n",
    "Note: data with high cardinality means each town (i.e. feature) is very unique"
   ]
  },
  {
   "cell_type": "code",
   "execution_count": null,
   "id": "bb88088f",
   "metadata": {},
   "outputs": [],
   "source": [
    "# from sklearn.model_selection import train_test_split\n",
    "# from sklearn import preprocessing\n",
    "# #---- Random Forest\n",
    "# from sklearn.ensemble import RandomForestClassifier\n",
    "# from sklearn.metrics import roc_auc_score\n",
    "# X_train, X_test, y_train, y_test = train_test_split(\n",
    "# dataML.drop(['town', 'remaining_lease'], axis=1), # predictors\n",
    "# dataML['town'], # target\n",
    "# test_size=0.3, # percentage of samples in test set\n",
    "# random_state=0) # seed to ensure reproducibility\n",
    "# # sanity check:\n",
    "# if (1):\n",
    "# # Let's find out labels present only in the training set\n",
    "# unique_to_train_set = [\n",
    "# y for y in y_train.unique() if y not in y_test.unique()\n",
    "# ]\n",
    "# print('len(unique_to_train_set)-----------------')\n",
    "# print(len(unique_to_train_set))\n",
    "# # Let's find out labels present only in the test set\n",
    "# unique_to_test_set = [\n",
    "# y for y in y_test.unique() if y not in y_train.unique()\n",
    "# ]\n",
    "# print('len(unique_to_test_set)-----------------')\n",
    "# print(len(unique_to_test_set))\n",
    "\n",
    "# # Random Forest model built on data with high cardinality for town\n",
    "# # call the model\n",
    "# rf = RandomForestClassifier(n_estimators=200, random_state=39)\n",
    "# # train the model\n",
    "# rf.fit(X_train[['floor_area_sqm', 'remaining_years', 'resale_price']], y_train)\n",
    "# # make predictions on train and test set\n",
    "# pred_train = rf.predict_proba(X_train[['floor_area_sqm', 'remaining_years', 'resale_price']])\n",
    "# pred_test = rf.predict_proba(X_test[['floor_area_sqm', 'remaining_years', 'resale_price']].fillna(0))\n",
    "# print('Training set results')\n",
    "# print('Random Forests roc-auc: {}'.format(roc_auc_score(y_train, pred_train, multi_class='ovr')))\n",
    "# print('Test set results')\n",
    "# print('Random Forests roc-auc: {}'.format(roc_auc_score(y_test, pred_test, multi_class='ovr')))"
   ]
  }
 ],
 "metadata": {
  "kernelspec": {
   "display_name": "Python 3 (ipykernel)",
   "language": "python",
   "name": "python3"
  },
  "language_info": {
   "codemirror_mode": {
    "name": "ipython",
    "version": 3
   },
   "file_extension": ".py",
   "mimetype": "text/x-python",
   "name": "python",
   "nbconvert_exporter": "python",
   "pygments_lexer": "ipython3",
   "version": "3.9.12"
  }
 },
 "nbformat": 4,
 "nbformat_minor": 5
}
